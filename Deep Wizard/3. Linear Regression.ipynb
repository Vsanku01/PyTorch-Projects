{
 "cells": [
  {
   "cell_type": "markdown",
   "metadata": {},
   "source": [
    "Simple Linear Regression Basics\n",
    "Allows us to understand relationship between two continuous variables\n",
    "* Example\n",
    "  * x: independent variable\n",
    "    * weight\n",
    "  * y: dependent variable\n",
    "    * height\n",
    "* y = \\alpha x + \\beta\n",
    "\n",
    "\n",
    "\n",
    "Aim of Linear Regression\n",
    "* Minimize the distance between the points and the line (y = \\alpha x + \\beta)\n",
    "* Adjusting\n",
    "    * Coefficient: \\alpha\n",
    "    * Bias/intercept: \\beta\n"
   ]
  },
  {
   "cell_type": "markdown",
   "metadata": {},
   "source": [
    "# Linear Regression Model with Pytorch"
   ]
  },
  {
   "cell_type": "code",
   "execution_count": 1,
   "metadata": {},
   "outputs": [],
   "source": [
    "import torch\n",
    "import numpy as np"
   ]
  },
  {
   "cell_type": "code",
   "execution_count": 2,
   "metadata": {},
   "outputs": [
    {
     "name": "stdout",
     "output_type": "stream",
     "text": [
      "[0, 1, 2, 3, 4, 5, 6, 7, 8, 9, 10]\n"
     ]
    }
   ],
   "source": [
    "x_values = [i for i in range(11)]\n",
    "print(x_values)"
   ]
  },
  {
   "cell_type": "code",
   "execution_count": 3,
   "metadata": {},
   "outputs": [
    {
     "data": {
      "text/plain": [
       "(11,)"
      ]
     },
     "execution_count": 3,
     "metadata": {},
     "output_type": "execute_result"
    }
   ],
   "source": [
    "x_train = np.array(x_values,dtype=np.float32)\n",
    "x_train.shape"
   ]
  },
  {
   "cell_type": "code",
   "execution_count": 4,
   "metadata": {},
   "outputs": [
    {
     "data": {
      "text/plain": [
       "1.0"
      ]
     },
     "execution_count": 4,
     "metadata": {},
     "output_type": "execute_result"
    }
   ],
   "source": [
    "x_train[1]"
   ]
  },
  {
   "cell_type": "code",
   "execution_count": 5,
   "metadata": {},
   "outputs": [
    {
     "data": {
      "text/plain": [
       "(11, 1)"
      ]
     },
     "execution_count": 5,
     "metadata": {},
     "output_type": "execute_result"
    }
   ],
   "source": [
    "#If you don't this you will get an error stating you need 2D. Simply just reshape accordingly if you ever face such errors down the road.\n",
    "\n",
    "\n",
    "# IMPORTANT: 2D required\n",
    "x_train = x_train.reshape(-1, 1)\n",
    "x_train.shape"
   ]
  },
  {
   "cell_type": "code",
   "execution_count": 6,
   "metadata": {},
   "outputs": [
    {
     "data": {
      "text/plain": [
       "array([1.], dtype=float32)"
      ]
     },
     "execution_count": 6,
     "metadata": {},
     "output_type": "execute_result"
    }
   ],
   "source": [
    "x_train[1]"
   ]
  },
  {
   "cell_type": "code",
   "execution_count": 7,
   "metadata": {},
   "outputs": [
    {
     "data": {
      "text/plain": [
       "[0, 2, 4, 6, 8, 10, 12, 14, 16, 18, 20]"
      ]
     },
     "execution_count": 7,
     "metadata": {},
     "output_type": "execute_result"
    }
   ],
   "source": [
    "# Suppose function is y = 2x +1\n",
    "\n",
    "y_values = [2*i for i in x_values]\n",
    "y_values"
   ]
  },
  {
   "cell_type": "code",
   "execution_count": 8,
   "metadata": {},
   "outputs": [],
   "source": [
    "# y_values = []\n",
    "# for i in x_values:\n",
    "#     result = 2*i + 1\n",
    "#     y_values.append(result)\n",
    "# y_values"
   ]
  },
  {
   "cell_type": "code",
   "execution_count": 9,
   "metadata": {},
   "outputs": [
    {
     "data": {
      "text/plain": [
       "(11,)"
      ]
     },
     "execution_count": 9,
     "metadata": {},
     "output_type": "execute_result"
    }
   ],
   "source": [
    "y_train = np.array(y_values,dtype=np.float32)\n",
    "y_train.shape"
   ]
  },
  {
   "cell_type": "code",
   "execution_count": 10,
   "metadata": {},
   "outputs": [
    {
     "data": {
      "text/plain": [
       "(11, 1)"
      ]
     },
     "execution_count": 10,
     "metadata": {},
     "output_type": "execute_result"
    }
   ],
   "source": [
    "y_train = y_train.reshape(-1,1)\n",
    "y_train.shape"
   ]
  },
  {
   "cell_type": "markdown",
   "metadata": {},
   "source": [
    "# Model Creation"
   ]
  },
  {
   "cell_type": "code",
   "execution_count": 11,
   "metadata": {},
   "outputs": [],
   "source": [
    "import torch\n",
    "import torch.nn as nn"
   ]
  },
  {
   "cell_type": "markdown",
   "metadata": {},
   "source": [
    "1. Linear model\n",
    "   * True Equation: y = 2x + 1\n",
    "2. Forward\n",
    "  * Example\n",
    "Input x = 1,\n",
    "Output \\hat y = ?"
   ]
  },
  {
   "cell_type": "code",
   "execution_count": 12,
   "metadata": {},
   "outputs": [],
   "source": [
    "# Create class\n",
    "class LinearRegressionModel(nn.Module):\n",
    "    def __init__(self, input_dim, output_dim):\n",
    "        super(LinearRegressionModel, self).__init__()\n",
    "        self.linear = nn.Linear(input_dim, output_dim)  \n",
    "\n",
    "    def forward(self, x):\n",
    "        out = self.linear(x)\n",
    "        return out"
   ]
  },
  {
   "cell_type": "code",
   "execution_count": 13,
   "metadata": {},
   "outputs": [],
   "source": [
    "input_dim = 1\n",
    "output_dim = 1\n",
    "\n",
    "model = LinearRegressionModel(input_dim,output_dim)"
   ]
  },
  {
   "cell_type": "code",
   "execution_count": 14,
   "metadata": {},
   "outputs": [],
   "source": [
    "criterion = nn.MSELoss()\n",
    "learning_rate = 0.01\n",
    "optimizer = torch.optim.SGD(model.parameters(),lr=learning_rate)"
   ]
  },
  {
   "cell_type": "code",
   "execution_count": 15,
   "metadata": {},
   "outputs": [
    {
     "name": "stdout",
     "output_type": "stream",
     "text": [
      "epoch 1,loss193.30284118652344\n",
      "epoch 2,loss15.911920547485352\n",
      "epoch 3,loss1.441087245941162\n",
      "epoch 4,loss0.25914672017097473\n",
      "epoch 5,loss0.16115888953208923\n",
      "epoch 6,loss0.1516026258468628\n",
      "epoch 7,loss0.14927707612514496\n",
      "epoch 8,loss0.14755846560001373\n",
      "epoch 9,loss0.14590658247470856\n",
      "epoch 10,loss0.14427681267261505\n",
      "epoch 11,loss0.14266586303710938\n",
      "epoch 12,loss0.14107254147529602\n",
      "epoch 13,loss0.1394972950220108\n",
      "epoch 14,loss0.13793963193893433\n",
      "epoch 15,loss0.13639910519123077\n",
      "epoch 16,loss0.13487601280212402\n",
      "epoch 17,loss0.13336989283561707\n",
      "epoch 18,loss0.1318807303905487\n",
      "epoch 19,loss0.13040791451931\n",
      "epoch 20,loss0.1289515644311905\n",
      "epoch 21,loss0.12751160562038422\n",
      "epoch 22,loss0.12608781456947327\n",
      "epoch 23,loss0.12467977404594421\n",
      "epoch 24,loss0.12328753620386124\n",
      "epoch 25,loss0.12191072106361389\n",
      "epoch 26,loss0.12054936587810516\n",
      "epoch 27,loss0.11920326203107834\n",
      "epoch 28,loss0.11787211149930954\n",
      "epoch 29,loss0.11655572056770325\n",
      "epoch 30,loss0.11525421589612961\n",
      "epoch 31,loss0.11396720260381699\n",
      "epoch 32,loss0.1126946210861206\n",
      "epoch 33,loss0.11143619567155838\n",
      "epoch 34,loss0.11019176989793777\n",
      "epoch 35,loss0.108961321413517\n",
      "epoch 36,loss0.1077444776892662\n",
      "epoch 37,loss0.10654139518737793\n",
      "epoch 38,loss0.1053515374660492\n",
      "epoch 39,loss0.10417518764734268\n",
      "epoch 40,loss0.103011853992939\n",
      "epoch 41,loss0.10186168551445007\n",
      "epoch 42,loss0.10072402656078339\n",
      "epoch 43,loss0.09959927201271057\n",
      "epoch 44,loss0.09848704934120178\n",
      "epoch 45,loss0.09738744050264359\n",
      "epoch 46,loss0.09629974514245987\n",
      "epoch 47,loss0.09522441029548645\n",
      "epoch 48,loss0.09416107833385468\n",
      "epoch 49,loss0.09310965240001678\n",
      "epoch 50,loss0.09206988662481308\n",
      "epoch 51,loss0.09104171395301819\n",
      "epoch 52,loss0.09002509713172913\n",
      "epoch 53,loss0.08901988714933395\n",
      "epoch 54,loss0.08802580833435059\n",
      "epoch 55,loss0.0870426818728447\n",
      "epoch 56,loss0.0860707089304924\n",
      "epoch 57,loss0.0851096510887146\n",
      "epoch 58,loss0.08415932208299637\n",
      "epoch 59,loss0.08321947604417801\n",
      "epoch 60,loss0.08229012042284012\n",
      "epoch 61,loss0.0813712328672409\n",
      "epoch 62,loss0.08046259731054306\n",
      "epoch 63,loss0.07956403493881226\n",
      "epoch 64,loss0.07867555320262909\n",
      "epoch 65,loss0.07779712975025177\n",
      "epoch 66,loss0.07692822068929672\n",
      "epoch 67,loss0.076069176197052\n",
      "epoch 68,loss0.07521979510784149\n",
      "epoch 69,loss0.07437973469495773\n",
      "epoch 70,loss0.07354926317930222\n",
      "epoch 71,loss0.07272790372371674\n",
      "epoch 72,loss0.07191581279039383\n",
      "epoch 73,loss0.07111270725727081\n",
      "epoch 74,loss0.07031861692667007\n",
      "epoch 75,loss0.06953339278697968\n",
      "epoch 76,loss0.06875688582658768\n",
      "epoch 77,loss0.06798912584781647\n",
      "epoch 78,loss0.06722988933324814\n",
      "epoch 79,loss0.06647918373346329\n",
      "epoch 80,loss0.0657368004322052\n",
      "epoch 81,loss0.06500276923179626\n",
      "epoch 82,loss0.0642768144607544\n",
      "epoch 83,loss0.06355898082256317\n",
      "epoch 84,loss0.06284921616315842\n",
      "epoch 85,loss0.062147464603185654\n",
      "epoch 86,loss0.06145347282290459\n",
      "epoch 87,loss0.06076713651418686\n",
      "epoch 88,loss0.06008864939212799\n",
      "epoch 89,loss0.059417594224214554\n",
      "epoch 90,loss0.058754172176122665\n",
      "epoch 91,loss0.05809807777404785\n",
      "epoch 92,loss0.05744931846857071\n",
      "epoch 93,loss0.05680780112743378\n",
      "epoch 94,loss0.05617348104715347\n",
      "epoch 95,loss0.05554612725973129\n",
      "epoch 96,loss0.05492578446865082\n",
      "epoch 97,loss0.05431240424513817\n",
      "epoch 98,loss0.053705934435129166\n",
      "epoch 99,loss0.05310628190636635\n",
      "epoch 100,loss0.052513156086206436\n"
     ]
    }
   ],
   "source": [
    "epochs = 100\n",
    "for epoch in range(epochs):\n",
    "    epoch += 1\n",
    "    # Convert numpy to tensors\n",
    "    inputs = torch.from_numpy(x_train).requires_grad_()\n",
    "    labels = torch.from_numpy(y_train)\n",
    "    \n",
    "    # Clear gradient w.r.t paramters\n",
    "    optimizer.zero_grad()\n",
    "    \n",
    "    # Forward to get output\n",
    "    outputs = model(inputs)\n",
    "    \n",
    "    # Calc Loss\n",
    "    loss = criterion(outputs,labels)\n",
    "    #Getting gradients w.r.t parameters\n",
    "    loss.backward()\n",
    "    \n",
    "    #Update paramters\n",
    "    optimizer.step()\n",
    "    \n",
    "    print('epoch {},loss{}'.format(epoch,loss.item()))"
   ]
  },
  {
   "cell_type": "code",
   "execution_count": 18,
   "metadata": {},
   "outputs": [
    {
     "data": {
      "text/plain": [
       "array([[ 0.4262797],\n",
       "       [ 2.3648915],\n",
       "       [ 4.3035035],\n",
       "       [ 6.242115 ],\n",
       "       [ 8.180727 ],\n",
       "       [10.119339 ],\n",
       "       [12.057951 ],\n",
       "       [13.996563 ],\n",
       "       [15.935175 ],\n",
       "       [17.873785 ],\n",
       "       [19.812397 ]], dtype=float32)"
      ]
     },
     "execution_count": 18,
     "metadata": {},
     "output_type": "execute_result"
    }
   ],
   "source": [
    "# Purely inference\n",
    "predicted = model(torch.from_numpy(x_train).requires_grad_()).data.numpy()\n",
    "predicted"
   ]
  },
  {
   "cell_type": "code",
   "execution_count": 19,
   "metadata": {},
   "outputs": [
    {
     "data": {
      "text/plain": [
       "array([[ 0.],\n",
       "       [ 2.],\n",
       "       [ 4.],\n",
       "       [ 6.],\n",
       "       [ 8.],\n",
       "       [10.],\n",
       "       [12.],\n",
       "       [14.],\n",
       "       [16.],\n",
       "       [18.],\n",
       "       [20.]], dtype=float32)"
      ]
     },
     "execution_count": 19,
     "metadata": {},
     "output_type": "execute_result"
    }
   ],
   "source": [
    "# y = 2x + 1 \n",
    "y_train"
   ]
  },
  {
   "cell_type": "code",
   "execution_count": 21,
   "metadata": {},
   "outputs": [
    {
     "data": {
      "image/png": "[encoded data removed]",
      "text/plain": [
       "<Figure size 432x288 with 1 Axes>"
      ]
     },
     "metadata": {
      "needs_background": "light"
     },
     "output_type": "display_data"
    }
   ],
   "source": [
    "import matplotlib.pyplot as plt\n",
    "# Clear figure\n",
    "plt.clf()\n",
    "\n",
    "# Get predictions\n",
    "predicted = model(torch.from_numpy(x_train).requires_grad_()).data.numpy()\n",
    "\n",
    "# Plot true data\n",
    "plt.plot(x_train, y_train, 'go', label='True data', alpha=0.5)\n",
    "\n",
    "# Plot predictions\n",
    "plt.plot(x_train, predicted, '--', label='Predictions', alpha=0.5)\n",
    "\n",
    "# Legend and plot\n",
    "plt.legend(loc='best')\n",
    "plt.show()"
   ]
  },
  {
   "cell_type": "markdown",
   "metadata": {},
   "source": [
    "## Save Model"
   ]
  },
  {
   "cell_type": "code",
   "execution_count": 22,
   "metadata": {},
   "outputs": [],
   "source": [
    "save_model = False\n",
    "if save_model is True:\n",
    "    # Saves only parameters\n",
    "    # alpha & beta\n",
    "    torch.save(model.state_dict(), 'awesome_model.pkl')"
   ]
  },
  {
   "cell_type": "markdown",
   "metadata": {},
   "source": [
    "## Load Model"
   ]
  },
  {
   "cell_type": "code",
   "execution_count": 24,
   "metadata": {},
   "outputs": [],
   "source": [
    "load_model = False\n",
    "if load_model is True:\n",
    "    model.load_state_dict(torch.load('awesome_model.pkl'))"
   ]
  },
  {
   "cell_type": "markdown",
   "metadata": {},
   "source": [
    "# GPU Version\n",
    "\n",
    "* Just remember always 2 things must be on GPU\n",
    "    * model\n",
    "    * tensors"
   ]
  },
  {
   "cell_type": "code",
   "execution_count": 25,
   "metadata": {},
   "outputs": [
    {
     "name": "stdout",
     "output_type": "stream",
     "text": [
      "epoch 1, loss 69.49633026123047\n",
      "epoch 2, loss 5.696641445159912\n",
      "epoch 3, loss 0.49239107966423035\n",
      "epoch 4, loss 0.06758671253919601\n",
      "epoch 5, loss 0.03263082727789879\n",
      "epoch 6, loss 0.02947675995528698\n",
      "epoch 7, loss 0.028920035809278488\n",
      "epoch 8, loss 0.0285784974694252\n",
      "epoch 9, loss 0.028257863596081734\n",
      "epoch 10, loss 0.027942122891545296\n",
      "epoch 11, loss 0.0276301521807909\n",
      "epoch 12, loss 0.027321545407176018\n",
      "epoch 13, loss 0.02701651304960251\n",
      "epoch 14, loss 0.026714831590652466\n",
      "epoch 15, loss 0.026416487991809845\n",
      "epoch 16, loss 0.02612154372036457\n",
      "epoch 17, loss 0.025829775258898735\n",
      "epoch 18, loss 0.025541378185153008\n",
      "epoch 19, loss 0.02525620348751545\n",
      "epoch 20, loss 0.024974102154374123\n",
      "epoch 21, loss 0.02469526417553425\n",
      "epoch 22, loss 0.02441946417093277\n",
      "epoch 23, loss 0.02414676547050476\n",
      "epoch 24, loss 0.023877225816249847\n",
      "epoch 25, loss 0.023610495030879974\n",
      "epoch 26, loss 0.02334686368703842\n",
      "epoch 27, loss 0.023086143657565117\n",
      "epoch 28, loss 0.022828297689557076\n",
      "epoch 29, loss 0.022573433816432953\n",
      "epoch 30, loss 0.022321371361613274\n",
      "epoch 31, loss 0.022072143852710724\n",
      "epoch 32, loss 0.021825561299920082\n",
      "epoch 33, loss 0.021581942215561867\n",
      "epoch 34, loss 0.021340833976864815\n",
      "epoch 35, loss 0.02110261283814907\n",
      "epoch 36, loss 0.02086692862212658\n",
      "epoch 37, loss 0.02063394896686077\n",
      "epoch 38, loss 0.020403489470481873\n",
      "epoch 39, loss 0.020175686106085777\n",
      "epoch 40, loss 0.01995038241147995\n",
      "epoch 41, loss 0.01972765102982521\n",
      "epoch 42, loss 0.01950732059776783\n",
      "epoch 43, loss 0.019289476796984673\n",
      "epoch 44, loss 0.019074084237217903\n",
      "epoch 45, loss 0.01886102743446827\n",
      "epoch 46, loss 0.018650434911251068\n",
      "epoch 47, loss 0.018442166969180107\n",
      "epoch 48, loss 0.018236225470900536\n",
      "epoch 49, loss 0.018032534047961235\n",
      "epoch 50, loss 0.017831245437264442\n",
      "epoch 51, loss 0.017632124945521355\n",
      "epoch 52, loss 0.017435209825634956\n",
      "epoch 53, loss 0.017240451648831367\n",
      "epoch 54, loss 0.01704796962440014\n",
      "epoch 55, loss 0.016857566311955452\n",
      "epoch 56, loss 0.016669346019625664\n",
      "epoch 57, loss 0.01648319512605667\n",
      "epoch 58, loss 0.016299141570925713\n",
      "epoch 59, loss 0.01611720770597458\n",
      "epoch 60, loss 0.015937183052301407\n",
      "epoch 61, loss 0.015759194269776344\n",
      "epoch 62, loss 0.015583205036818981\n",
      "epoch 63, loss 0.015409239567816257\n",
      "epoch 64, loss 0.015237163752317429\n",
      "epoch 65, loss 0.015066959895193577\n",
      "epoch 66, loss 0.014898714609444141\n",
      "epoch 67, loss 0.014732390642166138\n",
      "epoch 68, loss 0.01456783339381218\n",
      "epoch 69, loss 0.014405196532607079\n",
      "epoch 70, loss 0.014244304038584232\n",
      "epoch 71, loss 0.014085284434258938\n",
      "epoch 72, loss 0.013927960768342018\n",
      "epoch 73, loss 0.013772415928542614\n",
      "epoch 74, loss 0.01361864898353815\n",
      "epoch 75, loss 0.01346656959503889\n",
      "epoch 76, loss 0.013316166587173939\n",
      "epoch 77, loss 0.01316749770194292\n",
      "epoch 78, loss 0.013020447455346584\n",
      "epoch 79, loss 0.012875008396804333\n",
      "epoch 80, loss 0.012731230817735195\n",
      "epoch 81, loss 0.012589111924171448\n",
      "epoch 82, loss 0.012448507361114025\n",
      "epoch 83, loss 0.012309515848755836\n",
      "epoch 84, loss 0.012172036804258823\n",
      "epoch 85, loss 0.012036138214170933\n",
      "epoch 86, loss 0.011901700869202614\n",
      "epoch 87, loss 0.011768861673772335\n",
      "epoch 88, loss 0.011637374758720398\n",
      "epoch 89, loss 0.011507454328238964\n",
      "epoch 90, loss 0.01137896254658699\n",
      "epoch 91, loss 0.011251911520957947\n",
      "epoch 92, loss 0.011126216500997543\n",
      "epoch 93, loss 0.011001977138221264\n",
      "epoch 94, loss 0.010879120789468288\n",
      "epoch 95, loss 0.010757618583738804\n",
      "epoch 96, loss 0.010637513361871243\n",
      "epoch 97, loss 0.010518738999962807\n",
      "epoch 98, loss 0.01040123775601387\n",
      "epoch 99, loss 0.010285093449056149\n",
      "epoch 100, loss 0.010170254856348038\n"
     ]
    }
   ],
   "source": [
    "import torch\n",
    "import torch.nn as nn\n",
    "import numpy as np\n",
    "\n",
    "'''\n",
    "STEP 1: CREATE MODEL CLASS\n",
    "'''\n",
    "class LinearRegressionModel(nn.Module):\n",
    "    def __init__(self, input_dim, output_dim):\n",
    "        super(LinearRegressionModel, self).__init__()\n",
    "        self.linear = nn.Linear(input_dim, output_dim)  \n",
    "\n",
    "    def forward(self, x):\n",
    "        out = self.linear(x)\n",
    "        return out\n",
    "\n",
    "'''\n",
    "STEP 2: INSTANTIATE MODEL CLASS\n",
    "'''\n",
    "input_dim = 1\n",
    "output_dim = 1\n",
    "\n",
    "model = LinearRegressionModel(input_dim, output_dim)\n",
    "\n",
    "\n",
    "#######################\n",
    "#  USE GPU FOR MODEL  #\n",
    "#######################\n",
    "\n",
    "device = torch.device(\"cuda:0\" if torch.cuda.is_available() else \"cpu\")\n",
    "model.to(device)\n",
    "\n",
    "'''\n",
    "STEP 3: INSTANTIATE LOSS CLASS\n",
    "'''\n",
    "\n",
    "criterion = nn.MSELoss()\n",
    "\n",
    "'''\n",
    "STEP 4: INSTANTIATE OPTIMIZER CLASS\n",
    "'''\n",
    "\n",
    "learning_rate = 0.01\n",
    "\n",
    "optimizer = torch.optim.SGD(model.parameters(), lr=learning_rate)\n",
    "\n",
    "'''\n",
    "STEP 5: TRAIN THE MODEL\n",
    "'''\n",
    "epochs = 100\n",
    "for epoch in range(epochs):\n",
    "    epoch += 1\n",
    "    # Convert numpy array to torch Variable\n",
    "\n",
    "    #######################\n",
    "    #  USE GPU FOR MODEL  #\n",
    "    #######################\n",
    "    inputs = torch.from_numpy(x_train).to(device)\n",
    "    labels = torch.from_numpy(y_train).to(device)\n",
    "\n",
    "    # Clear gradients w.r.t. parameters\n",
    "    optimizer.zero_grad() \n",
    "\n",
    "    # Forward to get output\n",
    "    outputs = model(inputs)\n",
    "\n",
    "    # Calculate Loss\n",
    "    loss = criterion(outputs, labels)\n",
    "\n",
    "    # Getting gradients w.r.t. parameters\n",
    "    loss.backward()\n",
    "\n",
    "    # Updating parameters\n",
    "    optimizer.step()\n",
    "\n",
    "    # Logging\n",
    "    print('epoch {}, loss {}'.format(epoch, loss.item()))"
   ]
  },
  {
   "cell_type": "code",
   "execution_count": null,
   "metadata": {},
   "outputs": [],
   "source": []
  }
 ],
 "metadata": {
  "kernelspec": {
   "display_name": "Python 3",
   "language": "python",
   "name": "python3"
  },
  "language_info": {
   "codemirror_mode": {
    "name": "ipython",
    "version": 3
   },
   "file_extension": ".py",
   "mimetype": "text/x-python",
   "name": "python",
   "nbconvert_exporter": "python",
   "pygments_lexer": "ipython3",
   "version": "3.7.6"
  }
 },
 "nbformat": 4,
 "nbformat_minor": 4
}
